{
  "nbformat": 4,
  "nbformat_minor": 0,
  "metadata": {
    "colab": {
      "provenance": [],
      "authorship_tag": "ABX9TyNKVVHwLdb95GupSdmubDyw",
      "include_colab_link": true
    },
    "kernelspec": {
      "name": "python3",
      "display_name": "Python 3"
    },
    "language_info": {
      "name": "python"
    }
  },
  "cells": [
    {
      "cell_type": "markdown",
      "metadata": {
        "id": "view-in-github",
        "colab_type": "text"
      },
      "source": [
        "<a href=\"https://colab.research.google.com/github/Danil-Kazakov/Data-HW12/blob/main/Data_HW12.ipynb\" target=\"_parent\"><img src=\"https://colab.research.google.com/assets/colab-badge.svg\" alt=\"Open In Colab\"/></a>"
      ]
    },
    {
      "cell_type": "code",
      "execution_count": 2,
      "metadata": {
        "id": "Mi8hpIan0Ymj"
      },
      "outputs": [],
      "source": [
        "import spacy\n",
        "import nltk\n",
        "from nltk.corpus import stopwords\n",
        "from nltk.tokenize import word_tokenize, sent_tokenize\n",
        "from string import punctuation\n",
        "from heapq import nlargest"
      ]
    },
    {
      "cell_type": "markdown",
      "source": [
        "Завантаження моделей та стоп-слiв"
      ],
      "metadata": {
        "id": "1JWmE7UW0_IP"
      }
    },
    {
      "cell_type": "code",
      "source": [
        "nlp = spacy.load('en_core_web_sm')\n",
        "\n",
        "nltk.download('stopwords')\n",
        "nltk.download('punkt')"
      ],
      "metadata": {
        "colab": {
          "base_uri": "https://localhost:8080/"
        },
        "id": "V0EMB0A40_S4",
        "outputId": "5c84ef30-8be7-4c8e-d223-19b5ee9ba19c"
      },
      "execution_count": 3,
      "outputs": [
        {
          "output_type": "stream",
          "name": "stderr",
          "text": [
            "[nltk_data] Downloading package stopwords to /root/nltk_data...\n",
            "[nltk_data]   Unzipping corpora/stopwords.zip.\n",
            "[nltk_data] Downloading package punkt to /root/nltk_data...\n",
            "[nltk_data]   Unzipping tokenizers/punkt.zip.\n"
          ]
        },
        {
          "output_type": "execute_result",
          "data": {
            "text/plain": [
              "True"
            ]
          },
          "metadata": {},
          "execution_count": 3
        }
      ]
    },
    {
      "cell_type": "markdown",
      "source": [
        "Токенізація тексту та обробка стоп-слів"
      ],
      "metadata": {
        "id": "IYYGZbxC1aCH"
      }
    },
    {
      "cell_type": "code",
      "source": [
        "text = (\n",
        "    \"The Orbiter Discovery, OV-103, is considered eligible for listing in the National Register of Historic Places (NRHP) \"\n",
        "    \"in the context of the U.S. Space Shuttle Program (1969-2011) under Criterion A in the areas of Space Exploration and \"\n",
        "    \"Transportation and under Criterion C in the area of Engineering. Because it has achieved significance within the past \"\n",
        "    \"fifty years, Criteria Consideration G applies. Under Criterion A, Discovery is significant as the oldest of the three \"\n",
        "    \"extant orbiter vehicles constructed for the Space Shuttle Program (SSP), the longest running American space program to date; \"\n",
        "    \"she was the third of five orbiters built by NASA. Unlike the Mercury, Gemini, and Apollo programs, the SSP’s emphasis was \"\n",
        "    \"on cost effectiveness and reusability, and eventually the construction of a space station. Including her maiden voyage \"\n",
        "    \"(launched August 30, 1984), Discovery flew to space thirty-nine times, more than any of the other four orbiters; she was \"\n",
        "    \"also the first orbiter to fly twenty missions. She had the honor of being chosen as the Return to Flight vehicle after both \"\n",
        "    \"the Challenger and Columbia accidents. Discovery was the first shuttle to fly with the redesigned SRBs, a result of the \"\n",
        "    \"Challenger accident, and the first shuttle to fly with the Phase II and Block I SSME. Discovery also carried the Hubble \"\n",
        "    \"Space Telescope to orbit and performed two of the five servicing missions to the observatory. She flew the first and last \"\n",
        "    \"dedicated Department of Defense (DoD) missions, as well as the first unclassified defense-related mission. In addition, \"\n",
        "    \"Discovery was vital to the construction of the International Space Station (ISS); she flew thirteen of the thirty-seven \"\n",
        "    \"total missions flown to the station by a U.S. Space Shuttle. She was the first orbiter to dock to the ISS, and the first \"\n",
        "    \"to perform an exchange of a resident crew. Under Criterion C, Discovery is significant as a feat of engineering. According \"\n",
        "    \"to Wayne Hale, a flight director from Johnson Space Center, the Space Shuttle orbiter represents a 'huge technological leap \"\n",
        "    \"from expendable rockets and capsules to a reusable, winged, hypersonic, cargo-carrying spacecraft.' Although her base \"\n",
        "    \"structure followed a conventional aircraft design, she used advanced materials that both minimized her weight for \"\n",
        "    \"cargo-carrying purposes and featured low thermal expansion ratios, which provided a stable base for her Thermal Protection \"\n",
        "    \"System (TPS) materials. The Space Shuttle orbiter also featured the first reusable TPS; all previous spaceflight vehicles \"\n",
        "    \"had a single-use, ablative heat shield. Other notable engineering achievements of the orbiter included the first reusable \"\n",
        "    \"orbital propulsion system, and the first two-fault-tolerant Integrated Avionics System. As Hale stated, the Space Shuttle \"\n",
        "    \"remains 'the largest, fastest, winged hypersonic aircraft in history,' having regularly flown at twenty-five times the speed of sound.\"\n",
        ")\n",
        "\n",
        "\n",
        "\n",
        "sentence_tokens = sent_tokenize(text)\n",
        "\n",
        "doc = nlp(text)\n",
        "stop_words = set(stopwords.words('english'))\n",
        "word_frequencies = {}\n",
        "\n",
        "for word in doc:\n",
        "    if word.text.lower() not in stop_words and word.text.lower() not in punctuation:\n",
        "        if word.text not in word_frequencies:\n",
        "            word_frequencies[word.text] = 1\n",
        "        else:\n",
        "            word_frequencies[word.text] += 1\n",
        "\n",
        "max_freq = max(word_frequencies.values())\n",
        "\n",
        "for word in word_frequencies.keys():\n",
        "    word_frequencies[word] = (word_frequencies[word] / max_freq)"
      ],
      "metadata": {
        "id": "T6YmDsFL1aLc"
      },
      "execution_count": 6,
      "outputs": []
    },
    {
      "cell_type": "markdown",
      "source": [
        "Оцінка важливості речень"
      ],
      "metadata": {
        "id": "142RVOcz3WIm"
      }
    },
    {
      "cell_type": "code",
      "source": [
        "sentence_scores = {}\n",
        "for sent in sentence_tokens:\n",
        "    for word in word_tokenize(sent.lower()):\n",
        "        if word in word_frequencies:\n",
        "            if len(sent.split(' ')) < 30:\n",
        "                if sent not in sentence_scores:\n",
        "                    sentence_scores[sent] = word_frequencies[word]\n",
        "                else:\n",
        "                    sentence_scores[sent] += word_frequencies[word]"
      ],
      "metadata": {
        "id": "QSMdBrFw1hNg"
      },
      "execution_count": 7,
      "outputs": []
    },
    {
      "cell_type": "markdown",
      "source": [
        "Вибір найбільш важливих речень"
      ],
      "metadata": {
        "id": "_Vh6tOTb3bAC"
      }
    },
    {
      "cell_type": "code",
      "source": [
        "select_length = int(len(sentence_tokens) * 0.3)\n",
        "summary_sentences = nlargest(select_length, sentence_scores, key=sentence_scores.get)\n",
        "\n",
        "\n",
        "summary = ' '.join(summary_sentences)\n",
        "print(summary)"
      ],
      "metadata": {
        "colab": {
          "base_uri": "https://localhost:8080/"
        },
        "id": "cm1T6e3W3bLf",
        "outputId": "a89f0947-1cd2-4568-bb1e-d2207d551c64"
      },
      "execution_count": 8,
      "outputs": [
        {
          "output_type": "stream",
          "name": "stdout",
          "text": [
            "Other notable engineering achievements of the orbiter included the first reusable orbital propulsion system, and the first two-fault-tolerant Integrated Avionics System. The Space Shuttle orbiter also featured the first reusable TPS; all previous spaceflight vehicles had a single-use, ablative heat shield. She flew the first and last dedicated Department of Defense (DoD) missions, as well as the first unclassified defense-related mission. She was the first orbiter to dock to the ISS, and the first to perform an exchange of a resident crew. As Hale stated, the Space Shuttle remains 'the largest, fastest, winged hypersonic aircraft in history,' having regularly flown at twenty-five times the speed of sound.\n"
          ]
        }
      ]
    }
  ]
}